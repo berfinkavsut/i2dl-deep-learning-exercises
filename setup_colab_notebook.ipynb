{
  "cells": [
    {
      "cell_type": "markdown",
      "metadata": {
        "colab_type": "text",
        "id": "view-in-github"
      },
      "source": [
        "<a href=\"https://colab.research.google.com/github/berfinkavsut/i2dl-exercises/blob/main/setup_notebook.ipynb\" target=\"_parent\"><img src=\"https://colab.research.google.com/assets/colab-badge.svg\" alt=\"Open In Colab\"/></a>"
      ]
    },
    {
      "cell_type": "code",
      "execution_count": 1,
      "metadata": {
        "colab": {
          "base_uri": "https://localhost:8080/"
        },
        "id": "apb55eg2EuaA",
        "outputId": "612c478f-485c-4abb-e592-e2d6e9d91605"
      },
      "outputs": [
        {
          "name": "stdout",
          "output_type": "stream",
          "text": [
            "Mounted at /content/gdrive\n",
            "['setup_notebook.ipynb']\n"
          ]
        }
      ],
      "source": [
        "from google.colab import drive\n",
        "import os\n",
        "\n",
        "gdrive_path='/content/gdrive/MyDrive/i2dl/'\n",
        "\n",
        "# This will mount your google drive under 'MyDrive'\n",
        "drive.mount('/content/gdrive', force_remount=True)\n",
        "# In order to access the files in this notebook we have to navigate to the correct folder\n",
        "os.chdir(gdrive_path)\n",
        "# Check manually if all files are present\n",
        "print(sorted(os.listdir()))"
      ]
    },
    {
      "cell_type": "markdown",
      "metadata": {
        "id": "XkR47uKFTfla"
      },
      "source": [
        "Follow this tutorial: https://www.geeksforgeeks.org/how-to-install-and-use-git-in-google-colab/"
      ]
    },
    {
      "cell_type": "code",
      "execution_count": 2,
      "metadata": {
        "colab": {
          "base_uri": "https://localhost:8080/"
        },
        "id": "zKlfGkKyQmXn",
        "outputId": "c68d6fd3-276b-4a8f-d669-e7d6474d6978"
      },
      "outputs": [
        {
          "name": "stdout",
          "output_type": "stream",
          "text": [
            "/content/gdrive/MyDrive/i2dl\n"
          ]
        }
      ],
      "source": [
        "!pwd"
      ]
    },
    {
      "cell_type": "code",
      "execution_count": 3,
      "metadata": {
        "colab": {
          "base_uri": "https://localhost:8080/"
        },
        "id": "ew5tBZo4MOsT",
        "outputId": "2bbc365a-6b07-4969-cb06-4fa2be446c5c"
      },
      "outputs": [
        {
          "name": "stdout",
          "output_type": "stream",
          "text": [
            "git version 2.34.1\n"
          ]
        }
      ],
      "source": [
        "!git version"
      ]
    },
    {
      "cell_type": "markdown",
      "metadata": {
        "id": "k628SCB9Uf3b"
      },
      "source": [
        "Configure GitHub account"
      ]
    },
    {
      "cell_type": "code",
      "execution_count": 4,
      "metadata": {
        "id": "5Z8mTSDYMQmw"
      },
      "outputs": [],
      "source": [
        "!git config --global user.email “berfinkavsut@gmail.com”\n",
        "!git config --global user.name “berfinkavsut”"
      ]
    },
    {
      "cell_type": "code",
      "execution_count": 5,
      "metadata": {
        "id": "z8_w7BkTVVMG"
      },
      "outputs": [],
      "source": [
        "!git config --global init.defaultBranch main"
      ]
    },
    {
      "cell_type": "markdown",
      "metadata": {
        "id": "bP5IQctFUj7J"
      },
      "source": [
        "Create your git token: https://github.com/settings/tokens and use it while cloning your repo"
      ]
    },
    {
      "cell_type": "code",
      "execution_count": 6,
      "metadata": {
        "id": "yp_fZBrVMzXt"
      },
      "outputs": [],
      "source": [
        "# !git clone https://{git_token}@github.com/{username}/{repository}.git\n",
        "# !git clone https://github.com/berfinkavsut/i2dl-exercises.git"
      ]
    },
    {
      "cell_type": "code",
      "execution_count": 7,
      "metadata": {
        "colab": {
          "base_uri": "https://localhost:8080/"
        },
        "id": "cnwJEKsoM9iA",
        "outputId": "47a098f2-746e-4a39-e54e-4cb1e2af59e4"
      },
      "outputs": [
        {
          "name": "stdout",
          "output_type": "stream",
          "text": [
            "Cloning into 'i2dl-exercises'...\n",
            "remote: Enumerating objects: 694, done.\u001b[K\n",
            "remote: Counting objects: 100% (81/81), done.\u001b[K\n",
            "remote: Compressing objects: 100% (67/67), done.\u001b[K\n",
            "remote: Total 694 (delta 13), reused 48 (delta 7), pack-reused 613\u001b[K\n",
            "Receiving objects: 100% (694/694), 104.60 MiB | 13.93 MiB/s, done.\n",
            "Resolving deltas: 100% (229/229), done.\n",
            "Updating files: 100% (463/463), done.\n"
          ]
        }
      ],
      "source": [
        "!git clone https://{token}}@github.com/berfinkavsut/i2dl-exercises.git"
      ]
    },
    {
      "cell_type": "code",
      "execution_count": 8,
      "metadata": {
        "colab": {
          "base_uri": "https://localhost:8080/"
        },
        "id": "s9wOai33RJ_p",
        "outputId": "00928bb1-e4bc-434d-8973-1165ddb865bb"
      },
      "outputs": [
        {
          "name": "stdout",
          "output_type": "stream",
          "text": [
            "/content/gdrive/MyDrive/i2dl\n"
          ]
        }
      ],
      "source": [
        "!pwd"
      ]
    },
    {
      "cell_type": "code",
      "execution_count": 9,
      "metadata": {
        "colab": {
          "base_uri": "https://localhost:8080/"
        },
        "id": "jgH6YwI_RkAR",
        "outputId": "3fff3908-b002-40d6-e01f-fa35ade379aa"
      },
      "outputs": [
        {
          "name": "stdout",
          "output_type": "stream",
          "text": [
            "Reinitialized existing Git repository in /content/gdrive/MyDrive/i2dl/i2dl-exercises/.git/\n"
          ]
        }
      ],
      "source": [
        "!git init i2dl-exercises"
      ]
    },
    {
      "cell_type": "code",
      "execution_count": 10,
      "metadata": {
        "colab": {
          "base_uri": "https://localhost:8080/"
        },
        "id": "rUdnN0yxWvt9",
        "outputId": "9da99d9b-e3d2-4a25-b6a4-aa2cb34a0d07"
      },
      "outputs": [
        {
          "name": "stdout",
          "output_type": "stream",
          "text": [
            "/content/gdrive/MyDrive/i2dl/i2dl-exercises\n"
          ]
        }
      ],
      "source": [
        "%cd i2dl-exercises"
      ]
    },
    {
      "cell_type": "code",
      "execution_count": 11,
      "metadata": {
        "colab": {
          "base_uri": "https://localhost:8080/"
        },
        "id": "AFXEDxczVPm-",
        "outputId": "fffc4aba-230d-4859-ed7a-81516b917d2c"
      },
      "outputs": [
        {
          "name": "stdout",
          "output_type": "stream",
          "text": [
            "* \u001b[32mmain\u001b[m\n"
          ]
        }
      ],
      "source": [
        "!git branch"
      ]
    },
    {
      "cell_type": "code",
      "execution_count": 12,
      "metadata": {
        "colab": {
          "base_uri": "https://localhost:8080/"
        },
        "id": "G3f2U2KPTp6d",
        "outputId": "cc2f00b5-76ad-4bdd-c118-f0fec0a3873d"
      },
      "outputs": [
        {
          "name": "stdout",
          "output_type": "stream",
          "text": [
            "On branch main\n",
            "Your branch is up to date with 'origin/main'.\n",
            "\n",
            "nothing to commit, working tree clean\n"
          ]
        }
      ],
      "source": [
        "!git status"
      ]
    },
    {
      "cell_type": "code",
      "execution_count": 13,
      "metadata": {
        "colab": {
          "base_uri": "https://localhost:8080/"
        },
        "id": "Ebxq2x9aUF6a",
        "outputId": "a70341e6-fa13-44af-8b33-1d9f70f90395"
      },
      "outputs": [
        {
          "name": "stdout",
          "output_type": "stream",
          "text": [
            "Already up to date.\n"
          ]
        }
      ],
      "source": [
        "!git pull"
      ]
    },
    {
      "cell_type": "code",
      "execution_count": 14,
      "metadata": {
        "id": "Q1ApIOp4W5cI"
      },
      "outputs": [],
      "source": [
        "!touch example.txt"
      ]
    },
    {
      "cell_type": "code",
      "execution_count": 15,
      "metadata": {
        "id": "iS7Gd4JTTtOe"
      },
      "outputs": [],
      "source": [
        "!git add example.txt"
      ]
    },
    {
      "cell_type": "code",
      "execution_count": 16,
      "metadata": {
        "colab": {
          "base_uri": "https://localhost:8080/"
        },
        "id": "GplykjcET2_L",
        "outputId": "93b66c12-1e88-4e5e-ec78-fcfb051df7cc"
      },
      "outputs": [
        {
          "name": "stdout",
          "output_type": "stream",
          "text": [
            "[main f37c86f] added example.txt file\n",
            " 1 file changed, 0 insertions(+), 0 deletions(-)\n",
            " create mode 100644 example.txt\n"
          ]
        }
      ],
      "source": [
        "!git commit -m \"added example.txt file\""
      ]
    },
    {
      "cell_type": "code",
      "execution_count": 17,
      "metadata": {
        "colab": {
          "base_uri": "https://localhost:8080/"
        },
        "id": "W4ao-sAwWLMN",
        "outputId": "fe0f4712-7bde-4a15-fcce-c3e160ed03e3"
      },
      "outputs": [
        {
          "name": "stdout",
          "output_type": "stream",
          "text": [
            "Enumerating objects: 4, done.\n",
            "Counting objects:  25% (1/4)\rCounting objects:  50% (2/4)\rCounting objects:  75% (3/4)\rCounting objects: 100% (4/4)\rCounting objects: 100% (4/4), done.\n",
            "Delta compression using up to 2 threads\n",
            "Compressing objects:  50% (1/2)\rCompressing objects: 100% (2/2)\rCompressing objects: 100% (2/2), done.\n",
            "Writing objects:  33% (1/3)\rWriting objects:  66% (2/3)\rWriting objects: 100% (3/3)\rWriting objects: 100% (3/3), 294 bytes | 32.00 KiB/s, done.\n",
            "Total 3 (delta 1), reused 1 (delta 0), pack-reused 0\n",
            "remote: Resolving deltas:   0% (0/1)\u001b[K\rremote: Resolving deltas: 100% (1/1)\u001b[K\rremote: Resolving deltas: 100% (1/1), completed with 1 local object.\u001b[K\n",
            "To https://github.com/berfinkavsut/i2dl-exercises.git\n",
            "   b400ba6..f37c86f  main -> main\n"
          ]
        }
      ],
      "source": [
        "!git push"
      ]
    },
    {
      "cell_type": "code",
      "execution_count": null,
      "metadata": {
        "id": "pgT_qd2fXS6_"
      },
      "outputs": [],
      "source": []
    }
  ],
  "metadata": {
    "colab": {
      "include_colab_link": true,
      "provenance": []
    },
    "kernelspec": {
      "display_name": "Python 3",
      "name": "python3"
    },
    "language_info": {
      "name": "python"
    }
  },
  "nbformat": 4,
  "nbformat_minor": 0
}
